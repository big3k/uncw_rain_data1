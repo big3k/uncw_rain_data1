{
 "cells": [
  {
   "cell_type": "code",
   "execution_count": 1,
   "id": "88f17e69-5fef-4845-b7ca-6d40f106cdbd",
   "metadata": {},
   "outputs": [
    {
     "name": "stderr",
     "output_type": "stream",
     "text": [
      "2025-03-02 17:19:42.588019: I tensorflow/core/util/port.cc:153] oneDNN custom operations are on. You may see slightly different numerical results due to floating-point round-off errors from different computation orders. To turn them off, set the environment variable `TF_ENABLE_ONEDNN_OPTS=0`.\n",
      "2025-03-02 17:19:42.589900: I external/local_xla/xla/tsl/cuda/cudart_stub.cc:32] Could not find cuda drivers on your machine, GPU will not be used.\n",
      "2025-03-02 17:19:42.593653: I external/local_xla/xla/tsl/cuda/cudart_stub.cc:32] Could not find cuda drivers on your machine, GPU will not be used.\n",
      "2025-03-02 17:19:42.603621: E external/local_xla/xla/stream_executor/cuda/cuda_fft.cc:477] Unable to register cuFFT factory: Attempting to register factory for plugin cuFFT when one has already been registered\n",
      "WARNING: All log messages before absl::InitializeLog() is called are written to STDERR\n",
      "E0000 00:00:1740953982.620630 2847039 cuda_dnn.cc:8310] Unable to register cuDNN factory: Attempting to register factory for plugin cuDNN when one has already been registered\n",
      "E0000 00:00:1740953982.625585 2847039 cuda_blas.cc:1418] Unable to register cuBLAS factory: Attempting to register factory for plugin cuBLAS when one has already been registered\n",
      "2025-03-02 17:19:42.643768: I tensorflow/core/platform/cpu_feature_guard.cc:210] This TensorFlow binary is optimized to use available CPU instructions in performance-critical operations.\n",
      "To enable the following instructions: AVX2 AVX512F AVX512_VNNI FMA, in other operations, rebuild TensorFlow with the appropriate compiler flags.\n"
     ]
    }
   ],
   "source": [
    "from load_mat_images import load_mat_images \n"
   ]
  },
  {
   "cell_type": "code",
   "execution_count": 2,
   "id": "4515ca98-a833-4511-bab9-ee26ac4d2d16",
   "metadata": {},
   "outputs": [],
   "source": [
    "dir='/data1/tiany/m2m-merge-version4/output/2019/IDAI/time_interpolated/'"
   ]
  },
  {
   "cell_type": "code",
   "execution_count": 3,
   "id": "bf3b1148-ca21-497c-8933-ca77b1701b99",
   "metadata": {},
   "outputs": [
    {
     "name": "stdout",
     "output_type": "stream",
     "text": [
      "Warning: NaN values found in 20190310-1600-moved-from-20190310-1800-event.20190310-1826.lon-p043.lat-n17-METOPB.mat-merged.mat.mat, skipping.\n",
      "Warning: NaN values found in 20190310-1700-moved-from-20190310-1800-event.20190310-1826.lon-p043.lat-n17-METOPB.mat-merged.mat.mat, skipping.\n",
      "Warning: NaN values found in 20190310-1900-moved-from-20190310-1800-event.20190310-1826.lon-p043.lat-n17-METOPB.mat-merged.mat.mat, skipping.\n",
      "Warning: NaN values found in 20190311-0500-moved-from-20190311-0600-event.20190311-0642.lon-p043.lat-n17-METOPC.mat-merged.mat.mat, skipping.\n",
      "Warning: NaN values found in 20190311-0700-moved-from-20190311-0600-event.20190311-0642.lon-p043.lat-n17-METOPC.mat-merged.mat.mat, skipping.\n"
     ]
    }
   ],
   "source": [
    "train_data, test_data = load_mat_images(dir)"
   ]
  },
  {
   "cell_type": "code",
   "execution_count": 4,
   "id": "4106a25d-3fda-4954-b7c6-7400a1101ff5",
   "metadata": {},
   "outputs": [
    {
     "data": {
      "text/plain": [
       "44"
      ]
     },
     "execution_count": 4,
     "metadata": {},
     "output_type": "execute_result"
    }
   ],
   "source": [
    "len(train_data)"
   ]
  },
  {
   "cell_type": "code",
   "execution_count": 5,
   "id": "6a31c53b-19f8-426a-a6cf-0c4914746126",
   "metadata": {},
   "outputs": [
    {
     "data": {
      "text/plain": [
       "20"
      ]
     },
     "execution_count": 5,
     "metadata": {},
     "output_type": "execute_result"
    }
   ],
   "source": [
    "len(test_data)"
   ]
  },
  {
   "cell_type": "code",
   "execution_count": 8,
   "id": "7acb3f07-c147-4fdc-b34c-1d435ddb774b",
   "metadata": {},
   "outputs": [],
   "source": [
    "import scipy.io\n",
    "import numpy as np\n",
    "import matplotlib.pyplot as plt\n"
   ]
  },
  {
   "cell_type": "code",
   "execution_count": 9,
   "id": "559a646c-a495-4b28-9649-c0cca58aa0db",
   "metadata": {},
   "outputs": [
    {
     "data": {
      "text/plain": [
       "<matplotlib.image.AxesImage at 0x7f58667dbad0>"
      ]
     },
     "execution_count": 9,
     "metadata": {},
     "output_type": "execute_result"
    },
    {
     "data": {
      "image/png": "[encoded data removed]",
      "text/plain": [
       "<Figure size 640x480 with 1 Axes>"
      ]
     },
     "metadata": {},
     "output_type": "display_data"
    }
   ],
   "source": [
    "plt.imshow(test_data[10])"
   ]
  },
  {
   "cell_type": "code",
   "execution_count": null,
   "id": "56156b3b-dccc-4859-91f8-96e0b6e6af39",
   "metadata": {},
   "outputs": [],
   "source": [
    "sample_images = train_data[:32]\n",
    " \n",
    "fig = plt.figure(figsize=(16., 8.))\n",
    "grid = ImageGrid(fig, 111,\n",
    "                 nrows_ncols=(4, 8),  # creates 2x2 grid of axes\n",
    "                 axes_pad=0.3,  # pad between axes in inch.\n",
    "                 )\n",
    "\n",
    "for ax, image, label in zip(grid, sample_images, sample_labels):\n",
    "  ax.imshow(image)\n",
    "  ax.set_title(label[0])\n",
    "\n",
    "plt.show()"
   ]
  }
 ],
 "metadata": {
  "kernelspec": {
   "display_name": "Python 3 (ipykernel)",
   "language": "python",
   "name": "python3"
  },
  "language_info": {
   "codemirror_mode": {
    "name": "ipython",
    "version": 3
   },
   "file_extension": ".py",
   "mimetype": "text/x-python",
   "name": "python",
   "nbconvert_exporter": "python",
   "pygments_lexer": "ipython3",
   "version": "3.12.7"
  }
 },
 "nbformat": 4,
 "nbformat_minor": 5
}
