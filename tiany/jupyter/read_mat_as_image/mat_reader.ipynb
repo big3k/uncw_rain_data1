{
 "cells": [
  {
   "cell_type": "code",
   "execution_count": 1,
   "id": "24168c35-7e25-4f4b-99e7-87fb46fa109b",
   "metadata": {
    "scrolled": true
   },
   "outputs": [
    {
     "name": "stderr",
     "output_type": "stream",
     "text": [
      "2025-03-02 16:20:33.312291: I tensorflow/core/util/port.cc:153] oneDNN custom operations are on. You may see slightly different numerical results due to floating-point round-off errors from different computation orders. To turn them off, set the environment variable `TF_ENABLE_ONEDNN_OPTS=0`.\n",
      "2025-03-02 16:20:33.314288: I external/local_xla/xla/tsl/cuda/cudart_stub.cc:32] Could not find cuda drivers on your machine, GPU will not be used.\n",
      "2025-03-02 16:20:33.318548: I external/local_xla/xla/tsl/cuda/cudart_stub.cc:32] Could not find cuda drivers on your machine, GPU will not be used.\n",
      "2025-03-02 16:20:33.328885: E external/local_xla/xla/stream_executor/cuda/cuda_fft.cc:477] Unable to register cuFFT factory: Attempting to register factory for plugin cuFFT when one has already been registered\n",
      "WARNING: All log messages before absl::InitializeLog() is called are written to STDERR\n",
      "E0000 00:00:1740950433.345143 2833071 cuda_dnn.cc:8310] Unable to register cuDNN factory: Attempting to register factory for plugin cuDNN when one has already been registered\n",
      "E0000 00:00:1740950433.350066 2833071 cuda_blas.cc:1418] Unable to register cuBLAS factory: Attempting to register factory for plugin cuBLAS when one has already been registered\n",
      "2025-03-02 16:20:33.368335: I tensorflow/core/platform/cpu_feature_guard.cc:210] This TensorFlow binary is optimized to use available CPU instructions in performance-critical operations.\n",
      "To enable the following instructions: AVX2 AVX512F AVX512_VNNI FMA, in other operations, rebuild TensorFlow with the appropriate compiler flags.\n"
     ]
    }
   ],
   "source": [
    "import scipy.io\n",
    "import numpy as np\n",
    "import matplotlib.pyplot as plt\n",
    "from PIL import Image\n",
    "from tensorflow.keras.preprocessing.image import array_to_img, img_to_array\n"
   ]
  },
  {
   "cell_type": "code",
   "execution_count": 2,
   "id": "6574f55a-3cc3-4b7b-bc4b-760cce932210",
   "metadata": {},
   "outputs": [],
   "source": [
    "mat = scipy.io.loadmat('/data1/tiany/m2m-merge-version4/output/2019/IDAI/time_interpolated/20190314-0100-moved-from-20190314-0200-event.20190314-0225.lon-p038.lat-n20-F18.mat-merged.mat.mat')"
   ]
  },
  {
   "cell_type": "code",
   "execution_count": 3,
   "id": "75f8f45a-a0a3-4bff-a893-6f38084cb9b0",
   "metadata": {},
   "outputs": [],
   "source": [
    "# print(mat.keys())\n",
    "# dict_keys(['__header__', '__version__', '__globals__', 'moved'])\n",
    "# Extract the image array (adjust key accordingly)\n",
    "rate_struct = mat['moved']  # Replace with actual variable name"
   ]
  },
  {
   "cell_type": "code",
   "execution_count": 4,
   "id": "81014691-081e-4460-ba7f-596dcac72100",
   "metadata": {},
   "outputs": [
    {
     "name": "stdout",
     "output_type": "stream",
     "text": [
      "<class 'numpy.ndarray'>\n",
      "Fields in struct: ('rate', 'lon', 'lat')\n",
      "Field Data Shape: (301, 301)\n",
      "rate shape: (100, 100)  type:  <class 'numpy.ndarray'>\n"
     ]
    }
   ],
   "source": [
    "print(type(rate_struct))\n",
    "fields = rate_struct.dtype.names\n",
    "print(\"Fields in struct:\", fields)\n",
    "rate_data = rate_struct[0, 0]['rate']  # Adjust indexing based on structure shape\n",
    "print(\"Field Data Shape:\", rate_data.shape)\n",
    "# clip to the center for now, 100x100\n",
    "rate=rate_data[100:200, 100:200]\n",
    "print(\"rate shape:\", rate.shape, \" type: \", type(rate))"
   ]
  },
  {
   "cell_type": "code",
   "execution_count": 5,
   "id": "e34dd42d-84ae-4ec9-b7e2-d54606d4b83f",
   "metadata": {},
   "outputs": [],
   "source": [
    "# Normalize to [0,1] if needed. !! need restore to original scale. \n",
    "rate_image = rate.astype(np.float32) / np.max(rate) \n"
   ]
  },
  {
   "cell_type": "code",
   "execution_count": 6,
   "id": "82ce5c86-d156-41a6-9f55-1312633fb638",
   "metadata": {},
   "outputs": [],
   "source": [
    "# Reshape if necessary (e.g., for grayscale images)\n",
    "if len(rate_image.shape) == 3:\n",
    "    # Assume (height, width, channels)\n",
    "    rate_image = np.expand_dims(rate_image, axis=0)  # Add batch dimension if needed\n",
    "elif len(rate_image.shape) == 2:\n",
    "    # Grayscale image (height, width) -> (height, width, 1)\n",
    "    rate_image = np.expand_dims(rate_image, axis=-1)\n",
    "\n",
    "# Convert to a Keras-compatible image\n",
    "image = array_to_img(rate_image)\n",
    "image=image.transpose(Image.FLIP_TOP_BOTTOM)\n"
   ]
  },
  {
   "cell_type": "code",
   "execution_count": 7,
   "id": "c3669fd1-d175-4974-a6c8-fed7c086890f",
   "metadata": {
    "scrolled": true
   },
   "outputs": [
    {
     "data": {
      "text/plain": [
       "<matplotlib.image.AxesImage at 0x7f9cd573e5a0>"
      ]
     },
     "execution_count": 7,
     "metadata": {},
     "output_type": "execute_result"
    },
    {
     "data": {
      "image/png": "[encoded data removed]",
      "text/plain": [
       "<Figure size 640x480 with 1 Axes>"
      ]
     },
     "metadata": {},
     "output_type": "display_data"
    }
   ],
   "source": [
    "plt.imshow(image)"
   ]
  },
  {
   "cell_type": "code",
   "execution_count": 9,
   "id": "a0e805bc-67f3-428d-b550-f1e25338ea35",
   "metadata": {},
   "outputs": [
    {
     "data": {
      "text/plain": [
       "(100, 100, 1)"
      ]
     },
     "execution_count": 9,
     "metadata": {},
     "output_type": "execute_result"
    }
   ],
   "source": [
    "tmp=img_to_array(image)\n",
    "tmp.shape"
   ]
  },
  {
   "cell_type": "code",
   "execution_count": null,
   "id": "15ccdd0b-610d-4cc0-b4a3-9543556c3bab",
   "metadata": {},
   "outputs": [],
   "source": []
  },
  {
   "cell_type": "code",
   "execution_count": 11,
   "id": "8a90ab26-5e5b-4971-b5fe-3a1461b654ea",
   "metadata": {},
   "outputs": [
    {
     "name": "stdout",
     "output_type": "stream",
     "text": [
      "2 3\n"
     ]
    }
   ],
   "source": [
    "def test_a(x, y=\"test\"):\n",
    "  print(x, y)\n",
    "\n",
    "test_a(2, 3)"
   ]
  },
  {
   "cell_type": "code",
   "execution_count": 12,
   "id": "c1d55213-260f-4714-9ee2-91bfe9258933",
   "metadata": {},
   "outputs": [
    {
     "name": "stdout",
     "output_type": "stream",
     "text": [
      "2 test\n"
     ]
    }
   ],
   "source": [
    "test_a(2)"
   ]
  },
  {
   "cell_type": "code",
   "execution_count": 13,
   "id": "0ecf772c-ab86-49bd-86c3-2978ce36c4ed",
   "metadata": {},
   "outputs": [
    {
     "ename": "TypeError",
     "evalue": "test_a() missing 1 required positional argument: 'x'",
     "output_type": "error",
     "traceback": [
      "\u001b[0;31m---------------------------------------------------------------------------\u001b[0m",
      "\u001b[0;31mTypeError\u001b[0m                                 Traceback (most recent call last)",
      "Cell \u001b[0;32mIn[13], line 1\u001b[0m\n\u001b[0;32m----> 1\u001b[0m test_a()\n",
      "\u001b[0;31mTypeError\u001b[0m: test_a() missing 1 required positional argument: 'x'"
     ]
    }
   ],
   "source": [
    "test_a()"
   ]
  },
  {
   "cell_type": "code",
   "execution_count": 14,
   "id": "3ef4337f-6868-4925-8de8-5b7e0178bf54",
   "metadata": {},
   "outputs": [
    {
     "name": "stdout",
     "output_type": "stream",
     "text": [
      "2 b\n"
     ]
    }
   ],
   "source": [
    "test_a(2, \"b\")"
   ]
  },
  {
   "cell_type": "code",
   "execution_count": null,
   "id": "76bb3696-bdbd-4aa8-911e-534cddfd268c",
   "metadata": {},
   "outputs": [],
   "source": []
  }
 ],
 "metadata": {
  "kernelspec": {
   "display_name": "Python 3 (ipykernel)",
   "language": "python",
   "name": "python3"
  },
  "language_info": {
   "codemirror_mode": {
    "name": "ipython",
    "version": 3
   },
   "file_extension": ".py",
   "mimetype": "text/x-python",
   "name": "python",
   "nbconvert_exporter": "python",
   "pygments_lexer": "ipython3",
   "version": "3.12.7"
  }
 },
 "nbformat": 4,
 "nbformat_minor": 5
}
